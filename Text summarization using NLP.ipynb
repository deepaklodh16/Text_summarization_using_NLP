{
 "cells": [
  {
   "cell_type": "code",
   "execution_count": 2,
   "id": "faf9a5e8",
   "metadata": {},
   "outputs": [],
   "source": [
    "## importing pdf reader library\n",
    "import pdfplumber"
   ]
  },
  {
   "cell_type": "code",
   "execution_count": 5,
   "id": "d8bf39c3",
   "metadata": {},
   "outputs": [
    {
     "name": "stdout",
     "output_type": "stream",
     "text": [
      "{'matrix': (0.75, 0.0, 0.0, 0.75, 72.0, 695.06399925), 'fontname': 'AAAAAA+PTSerif-Bold', 'adv': 24.128, 'upright': True, 'x0': 72.0, 'y0': 688.19999925, 'x1': 90.096, 'y1': 712.19999925, 'width': 18.096000000000004, 'height': 24.0, 'size': 24.0, 'object_type': 'char', 'page_number': 1, 'ncs': 'DeviceRGB', 'text': 'O', 'stroking_color': (0.1216, 0.1255, 0.1412), 'stroking_pattern': None, 'non_stroking_color': (0.1216, 0.1255, 0.1412), 'non_stroking_pattern': None, 'top': 79.80000074999998, 'bottom': 103.80000074999998, 'doctop': 79.80000074999998}\n"
     ]
    }
   ],
   "source": [
    "## opening pdf as variable pdf\n",
    "with pdfplumber.open(\"C:\\\\Users\\\\suraj\\\\Downloads\\\\deepak\\\\DATA science projects\\\\NLP project\\\\Text Summarization Using NLP\\\\Operations Management.pdf\") as pdf:\n",
    "    first_page = pdf.pages[0]\n",
    "    print(first_page.chars[0])"
   ]
  },
  {
   "cell_type": "code",
   "execution_count": 6,
   "id": "04e1e5ce",
   "metadata": {},
   "outputs": [],
   "source": [
    "# Initialize an empty string to store the extracted text\n",
    "new_text = ''"
   ]
  },
  {
   "cell_type": "code",
   "execution_count": 7,
   "id": "759335b5",
   "metadata": {},
   "outputs": [],
   "source": [
    "# Iterate through each page in the PDF\n",
    "for page in pdf.pages:\n",
    "    page_text = page.extract_text()\n",
    "    new_text += page_text"
   ]
  },
  {
   "cell_type": "code",
   "execution_count": 8,
   "id": "fe4b0e7b",
   "metadata": {},
   "outputs": [],
   "source": [
    "# Close the PDF file\n",
    "pdf.close()"
   ]
  },
  {
   "cell_type": "code",
   "execution_count": 9,
   "id": "3da75713",
   "metadata": {},
   "outputs": [
    {
     "name": "stderr",
     "output_type": "stream",
     "text": [
      "[nltk_data] Downloading package punkt to\n",
      "[nltk_data]     C:\\Users\\suraj\\AppData\\Roaming\\nltk_data...\n",
      "[nltk_data]   Package punkt is already up-to-date!\n",
      "[nltk_data] Downloading package stopwords to\n",
      "[nltk_data]     C:\\Users\\suraj\\AppData\\Roaming\\nltk_data...\n",
      "[nltk_data]   Package stopwords is already up-to-date!\n"
     ]
    },
    {
     "data": {
      "text/plain": [
       "True"
      ]
     },
     "execution_count": 9,
     "metadata": {},
     "output_type": "execute_result"
    }
   ],
   "source": [
    "## importing essential libraries\n",
    "import nltk\n",
    "from nltk.corpus import stopwords\n",
    "from nltk.cluster.util import cosine_distance\n",
    "import numpy as np\n",
    "import networkx as nx\n",
    "\n",
    "nltk.download('punkt')\n",
    "nltk.download('stopwords')"
   ]
  },
  {
   "cell_type": "code",
   "execution_count": 10,
   "id": "77528391",
   "metadata": {},
   "outputs": [],
   "source": [
    "# Define a function to preprocess and tokenize the text\n",
    "def preprocess_text(text):\n",
    "    sentences = nltk.sent_tokenize(text)\n",
    "    sentence_tokens = [nltk.word_tokenize(sentence.lower()) for sentence in sentences]\n",
    "    return sentences, sentence_tokens"
   ]
  },
  {
   "cell_type": "code",
   "execution_count": 11,
   "id": "b220c2d3",
   "metadata": {},
   "outputs": [],
   "source": [
    "# Define a function to calculate sentence similarity using cosine distance\n",
    "def sentence_similarity(sent1, sent2, stopwords=None):\n",
    "    if stopwords is None:\n",
    "        stopwords = []\n",
    "\n",
    "    sent1 = [word for word in sent1 if word not in stopwords]\n",
    "    sent2 = [word for word in sent2 if word not in stopwords]\n",
    "\n",
    "    all_words = list(set(sent1 + sent2))\n",
    "\n",
    "    vector1 = [0] * len(all_words)\n",
    "    vector2 = [0] * len(all_words)\n",
    "\n",
    "    for word in sent1:\n",
    "        vector1[all_words.index(word)] += 1\n",
    "\n",
    "    for word in sent2:\n",
    "        vector2[all_words.index(word)] += 1\n",
    "  \n",
    "    return 1 -cosine_distance(vector1,vector2)"
   ]
  },
  {
   "cell_type": "code",
   "execution_count": 12,
   "id": "adacbf97",
   "metadata": {},
   "outputs": [],
   "source": [
    "# Define a function to create a similarity matrix for sentences\n",
    "def build_similarity_matrix(sentences, stop_words):\n",
    "    similarity_matrix = np.zeros((len(sentences), len(sentences)))\n",
    "\n",
    "    for i in range(len(sentences)):\n",
    "        for j in range(len(sentences)):\n",
    "            if i != j:\n",
    "                similarity_matrix[i][j] = sentence_similarity(sentences[i], sentences[j], stop_words)\n",
    "\n",
    "    return similarity_matrix"
   ]
  },
  {
   "cell_type": "code",
   "execution_count": 13,
   "id": "771bd901",
   "metadata": {},
   "outputs": [],
   "source": [
    "def generate_summary(text, max_words=50):\n",
    "    sentences, sentence_tokens = preprocess_text(text)\n",
    "    stop_words = stopwords.words('english')\n",
    "    similarity_matrix = build_similarity_matrix(sentence_tokens, stop_words)\n",
    "\n",
    "    # Apply PageRank algorithm using networkx\n",
    "    nx_graph = nx.from_numpy_array(similarity_matrix)\n",
    "    scores = nx.pagerank(nx_graph)\n",
    "\n",
    "    ranked_sentences = sorted(((scores[i], sentence) for i, sentence in enumerate(sentences)), reverse=True)\n",
    "\n",
    "    summary_sentences = []\n",
    "    word_count = 0\n",
    "\n",
    "    for i in range(len(ranked_sentences)):\n",
    "        sentence = ranked_sentences[i][1]\n",
    "        word_count += len(sentence.split())\n",
    "        if word_count <= max_words:\n",
    "            summary_sentences.append(sentence)\n",
    "        else:\n",
    "            break\n",
    "\n",
    "    return ' '.join(summary_sentences)"
   ]
  },
  {
   "cell_type": "code",
   "execution_count": 19,
   "id": "424fef39",
   "metadata": {},
   "outputs": [
    {
     "name": "stdout",
     "output_type": "stream",
     "text": [
      "Principles of Operations Management\n",
      "With the main aim of operations management being the improvement in\n",
      "processes in an organization, the management applies a number of approaches\n",
      "to achieving its objectives. Formerly, the operations management was an activity meant for the production\n",
      "processes in factories only. Having its direct impact on the production processes,\n",
      "principles of inventory management are critical to the parent operations\n",
      "management. Strategies in operations management are therefore those approaches that are\n",
      "implemented by the management in its functions such as planning, organization\n",
      "and control among others. According to Elearn, planning and control is a necessity for the operations\n",
      "management following the process of designing operations in an organization. In the management of production activities, operations changes were, for\n",
      "example, realized in the labor system. In the planning process, the management establishes objectives that are\n",
      "supposed to be achieved in the operations. Objectives of Operations Management\n",
      "It has been established that operations management is charged with specific\n",
      "duties in an organization that relates to the production of goods and services. The inventory department of an organization is also an important part of the\n",
      "operations management. Operations management therefore involves the management of “people,\n",
      "materials, equipments and information resources that a business may need” (Sox1) in its daily activities. In pursuit of these objectives, operations management in any given organization\n",
      "has responsibilities that include “planning, organizing, staffing, leading, and\n",
      "controlling” elements in the organization’s production processes (Haynes 4). Having recruited and\n",
      "employed human resource, the operations management also ensures\n",
      "employees’ well being. The management also has the\n",
      "role of controlling processes in the organization. Quality management of operations also has established theories for\n",
      "efficiencies. The decision of whom\n",
      "to fire and when also lies with the operations management. From the definition of operations management, it entails the provision for and the\n",
      "management and control of activities of the production and delivery of goods and\n",
      "services to the final consumer. Factors Affecting Development of Operations Management\n",
      "Operations management has, along its, history been characterized with a lot of\n",
      "changes that have ensured its evolution over time to its current level. The organizational duty of operations management that covers\n",
      "decisions as to how operations are to be undertaken offers directions as to “what\n",
      "task will be done, where, when, and by whom” (Langabeer 16). Once planning has been done as to the activities, locations, time and the items to\n",
      "be produced, the operations management assumes the role of organizing\n",
      "processes. Principles of operations management are applicable through the management\n",
      "system in accordance with the sub departments of operations management. Operations Management: Oil and Gas\n",
      "Report\n",
      "Introduction\n",
      "Operations management is a branch of management that deals with the\n",
      "designing and supervision of operational processes in a business organization. Under the\n",
      "management approach, all operations were to be managed together so as to\n",
      "enhance efficiencies in processes and qualities in productions. Measures to establish and drive operations to improvements lies with the\n",
      "operations management (Rowbotham, Azhashemi and Galloway 8).\n"
     ]
    }
   ],
   "source": [
    "## genreating summary\n",
    "new_summary = generate_summary(new_text, max_words=500)\n",
    "print(new_summary)"
   ]
  },
  {
   "cell_type": "code",
   "execution_count": null,
   "id": "27abbe26",
   "metadata": {},
   "outputs": [],
   "source": []
  }
 ],
 "metadata": {
  "kernelspec": {
   "display_name": "Python 3 (ipykernel)",
   "language": "python",
   "name": "python3"
  },
  "language_info": {
   "codemirror_mode": {
    "name": "ipython",
    "version": 3
   },
   "file_extension": ".py",
   "mimetype": "text/x-python",
   "name": "python",
   "nbconvert_exporter": "python",
   "pygments_lexer": "ipython3",
   "version": "3.11.3"
  }
 },
 "nbformat": 4,
 "nbformat_minor": 5
}
